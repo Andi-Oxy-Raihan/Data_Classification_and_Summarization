{
  "nbformat": 4,
  "nbformat_minor": 0,
  "metadata": {
    "colab": {
      "provenance": []
    },
    "kernelspec": {
      "name": "python3",
      "display_name": "Python 3"
    },
    "language_info": {
      "name": "python"
    }
  },
  "cells": [
    {
      "cell_type": "markdown",
      "source": [
        "#Classificiation Lab 1"
      ],
      "metadata": {
        "id": "g7xGpz2VBRUx"
      }
    },
    {
      "cell_type": "code",
      "source": [
        "!pip install langchain_community\n",
        "!pip install replicate"
      ],
      "metadata": {
        "id": "1hQKF4KDBzxM"
      },
      "execution_count": null,
      "outputs": []
    },
    {
      "cell_type": "code",
      "source": [
        "from langchain_community.llms import Replicate\n",
        "import os\n",
        "from google.colab import userdata\n",
        "\n",
        "# Set the API token\n",
        "api_token = userdata.get('api_token')\n",
        "os.environ[\"REPLICATE_API_TOKEN\"] = api_token\n",
        "\n",
        "# Model setup\n",
        "model = \"ibm-granite/granite-3.3-8b-instruct\"\n",
        "output = Replicate(\n",
        "  model=model,\n",
        "  replicate_api_token=api_token,\n",
        ")\n",
        "\n",
        "# Define the customer reviews\n",
        "customer_reviews = [\n",
        " \"The battery lasts all day, and the performance is excellent.\",\n",
        " \"The screen is too dim outdoors, but I love the colors indoors.\",\n",
        " \"This phone is slow and keeps crashing when I open certain apps.\"\n",
        "]\n",
        "\n",
        "# Define the customer reviews\n",
        "# customer_reviews = [\n",
        "#  \"The battery lasts all day, but the phone gets hot during gaming.\",\n",
        "#  \"The screen is too dim outdoors, but I love the colors indoors.\",\n",
        "#  \"This phone is fast, but it keeps crashing when I open certain apps.\"\n",
        "# ]\n",
        "\n"
      ],
      "metadata": {
        "id": "ZIkStor_B2Ej"
      },
      "execution_count": null,
      "outputs": []
    },
    {
      "cell_type": "code",
      "source": [
        "# Refine the prompt to include reviews\n",
        "reviews_text = \"\\n\".join([f\"Review {i+1}: {review}\" for i, review in enumerate(customer_reviews)])\n",
        "prompt = f\"\"\"\n",
        "  Classify these reviews as Positive, Negative, or Mixed:\n",
        "  {reviews_text}\n",
        "\"\"\"\n",
        "\n",
        "# Invoke the model with the example prompt\n",
        "response = output.invoke(prompt)\n",
        "\n",
        "# Print the response\n",
        "print(\"Granite Model Response:\\n\")\n",
        "print(response)"
      ],
      "metadata": {
        "colab": {
          "base_uri": "https://localhost:8080/"
        },
        "id": "dxOltvBIB3jo",
        "outputId": "d88d7e15-3bd4-4e5e-804d-57872aa289fb"
      },
      "execution_count": null,
      "outputs": [
        {
          "output_type": "stream",
          "name": "stdout",
          "text": [
            "Granite Model Response:\n",
            "\n",
            "1. Positive: The first review expresses satisfaction with both the battery life and performance, indicating a positive sentiment.\n",
            "\n",
            "2. Mixed: The second review has both positive and negative aspects. The user appreciates the color accuracy indoors but criticizes the dimness outdoors, making it mixed.\n",
            "\n",
            "3. Negative: The third review is clearly negative as it highlights significant issues with the phone's speed and app crashing, indicating dissatisfaction.\n"
          ]
        }
      ]
    },
    {
      "cell_type": "code",
      "source": [
        "# Define refined prompt\n",
        "refined_prompt = f\"\"\"\n",
        "  Classify these reviews as positive, negative, or mixed, and tag\n",
        "  relevant categories (battery life, screen quality, or\n",
        "  performance):\n",
        "  {reviews_text}\n",
        "\"\"\"\n",
        "\n",
        "# Invoke the model with the example prompt\n",
        "response = output.invoke(refined_prompt)\n",
        "\n",
        "# Print the response\n",
        "print(\"Granite Model Refined Response:\\n\")\n",
        "print(response)"
      ],
      "metadata": {
        "colab": {
          "base_uri": "https://localhost:8080/"
        },
        "id": "out6nq10B5A2",
        "outputId": "a0dc6e01-6643-48b3-c8fb-e9e884a3184f"
      },
      "execution_count": null,
      "outputs": [
        {
          "output_type": "stream",
          "name": "stdout",
          "text": [
            "Granite Model Refined Response:\n",
            "\n",
            "1. Review 1: Positive, Categories - Battery life (positive), Performance (positive)\n",
            "2. Review 2: Mixed, Categories - Screen quality (negative - dim outdoors, positive - good colors indoors)\n",
            "3. Review 3: Negative, Categories - Performance (negative - slow, crashes)\n",
            "\n",
            "Explanation:\n",
            "\n",
            "1. Review 1 expresses satisfaction with both the battery life (\"lasts all day\") and performance (\"excellent\"), classifying it as positive. The relevant categories tagged are battery life and performance.\n",
            "\n",
            "2. Review 2 provides both positive and negative feedback. The reviewer finds the screen quality lacking outdoors due to dimness but appreciates the color quality indoors. This makes it mixed, with screen quality being the relevant category, noting its negative aspect (dimness) and positive aspect (good colors).\n",
            "\n",
            "3. Review 3 is clearly negative, as it highlights significant issues with the phone's performance - being slow and crashing when opening certain apps. Hence, it's classified as negative, with performance being the relevant category indicating the problems experienced.\n"
          ]
        }
      ]
    },
    {
      "cell_type": "code",
      "source": [
        "# Define the prompt to complete the task in 2 steps\n",
        "multitask_prompt = f\"\"\"\n",
        "  Complete the task in 2 steps.\n",
        "  Step 1: Classify these reviews as positive, negative, or mixed.\n",
        "  Step 2: For each review, identify relevant categories: battery\n",
        "  life, screen quality, or performance.\n",
        "  {reviews_text}\n",
        "\"\"\"\n",
        "\n",
        "# Invoke the model with the example prompt\n",
        "response = output.invoke(multitask_prompt)\n",
        "\n",
        "# Print the response\n",
        "print(\"Granite Model Response:\\n\")\n",
        "print(response)"
      ],
      "metadata": {
        "colab": {
          "base_uri": "https://localhost:8080/"
        },
        "id": "GaoBmjkaB7uS",
        "outputId": "235a0d50-7914-45c4-e23a-1574846039fe"
      },
      "execution_count": null,
      "outputs": [
        {
          "output_type": "stream",
          "name": "stdout",
          "text": [
            "Granite Model Response:\n",
            "\n",
            "### Step 1: Classification\n",
            "\n",
            "1. **Review 1**: Positive\n",
            "   - This review expresses satisfaction with both battery life (\"lasts all day\") and performance (\"excellent\").\n",
            "\n",
            "2. **Review 2**: Mixed\n",
            "   - The review is mixed because it points out a negative aspect of the screen being dim outdoors, but also acknowledges a positive feature—vibrant colors indoors.\n",
            "\n",
            "3. **Review 3**: Negative\n",
            "   - This review is clearly negative as it describes the phone as slow and prone to crashing, indicating significant performance issues.\n",
            "\n",
            "### Step 2: Identify Relevant Categories\n",
            "\n",
            "1. **Review 1**: \n",
            "   - Categories: Battery Life (Positive), Performance (Positive)\n",
            "\n",
            "2. **Review 2**: \n",
            "   - Categories: Screen Quality (Dim outdoors, Positive indoors)\n",
            "\n",
            "3. **Review 3**: \n",
            "   - Categories: Performance (Slow, Crashing issues)\n",
            "\n",
            "### Summary:\n",
            "- **Review 1** is positive, focusing on excellent battery life and performance.\n",
            "- **Review 2** is mixed, critiquing dim screen outdoors but praising color quality indoors.\n",
            "- **Review 3** is negative, highlighting performance problems with slow operation and app crashes.\n"
          ]
        }
      ]
    },
    {
      "cell_type": "code",
      "source": [
        "# Define the example to guide the model\n",
        "formatted_prompt = f\"\"\"\n",
        "  Classify these reviews as Positive, Negative, or Mixed, and tag\n",
        "  relevant categories. Use this format:\n",
        "  - Sentiment: [Sentiment]\n",
        "  - Categories: [Categories].\n",
        "  {reviews_text}\n",
        "\"\"\"\n",
        "\n",
        "# Invoke the model with prompt\n",
        "response = output.invoke(formatted_prompt)\n",
        "\n",
        "# Print the response\n",
        "print(\"Granite Model Formatted Response:\\n\")\n",
        "print(response)"
      ],
      "metadata": {
        "colab": {
          "base_uri": "https://localhost:8080/"
        },
        "id": "k_zzQ20DB9lg",
        "outputId": "3df8959a-8e50-42ee-dc5b-8ef8251f68ae"
      },
      "execution_count": null,
      "outputs": [
        {
          "output_type": "stream",
          "name": "stdout",
          "text": [
            "Granite Model Formatted Response:\n",
            "\n",
            "- Sentiment: Positive\n",
            "  - Categories: Battery life, Performance\n",
            "\n",
            "- Sentiment: Mixed\n",
            "  - Categories: Screen quality, Indoor/Outdoor display\n",
            "\n",
            "- Sentiment: Negative\n",
            "  - Categories: Performance, Speed, App stability\n"
          ]
        }
      ]
    },
    {
      "cell_type": "markdown",
      "source": [
        "#Summarization Lab 1"
      ],
      "metadata": {
        "id": "8IarTLEjBwLw"
      }
    },
    {
      "cell_type": "code",
      "execution_count": null,
      "metadata": {
        "id": "hif_WqPVeslh"
      },
      "outputs": [],
      "source": [
        "!pip install langchain_community\n",
        "!pip install replicate"
      ]
    },
    {
      "cell_type": "code",
      "source": [
        "from langchain_community.llms import Replicate\n",
        "import os\n",
        "from google.colab import userdata\n",
        "\n",
        "# Set the API token\n",
        "api_token = userdata.get('api_token')\n",
        "os.environ[\"REPLICATE_API_TOKEN\"] = api_token\n",
        "\n",
        "# Model setup\n",
        "model = \"ibm-granite/granite-3.3-8b-instruct\"\n",
        "output = Replicate(\n",
        "  model=model,\n",
        "  replicate_api_token=api_token,\n",
        ")\n",
        "\n",
        "customer_meetings = [\n",
        "  \"\"\"\n",
        "  The meeting began with a discussion of the Q3 marketing budget. It\n",
        "  was decided that 40% of the budget will go to digital ads, 30% to\n",
        "  events, and 30% to social media campaigns. The team emphasized the\n",
        "  need for influencer partnerships to increase brand visibility and\n",
        "  email marketing to boost direct engagement. A pilot program to\n",
        "  test new ad formats will launch next month, with the team\n",
        "  reviewing results by the end of Q3.\n",
        "  Later, the team discussed campaign performance metrics. ROI\n",
        "  monitoring will be a top priority, and adjustments will be made\n",
        "  based on performance data.\n",
        "  The events team raised concerns about resource allocation for\n",
        "  upcoming trade shows, and it was agreed that an additional $10,000\n",
        "  would be reallocated to cover these costs.\n",
        "  Lastly, the team reviewed new creative concepts for the upcoming\n",
        "  campaign, deciding to proceed with Concept 8, which tested better\n",
        "  among focus groups. Deadlines for campaign assets were finalized:\n",
        "  all deliverables must be submitted by July 15.\n",
        "  \"\"\"\n",
        "]"
      ],
      "metadata": {
        "id": "qmgmYTWkBWMM"
      },
      "execution_count": null,
      "outputs": []
    },
    {
      "cell_type": "code",
      "source": [
        "# Refine the prompt to include reviews\n",
        "reviews_text = \"\\n\".join([f\"Review {i+1}: {review}\" for i, review in enumerate(customer_meetings)])\n",
        "prompt = f\"\"\"\n",
        "  Summarize this meeting:\n",
        "  {reviews_text}\n",
        "\"\"\"\n",
        "\n",
        "# Invoke the model with example prompt\n",
        "response = output.invoke(prompt)\n",
        "\n",
        "# Print the response\n",
        "print(\"Granite Model Response:\\n\")\n",
        "print(response)"
      ],
      "metadata": {
        "colab": {
          "base_uri": "https://localhost:8080/"
        },
        "id": "acExxkULBYzp",
        "outputId": "6644eec9-201b-49c5-8fb1-41a65110b44d"
      },
      "execution_count": null,
      "outputs": [
        {
          "output_type": "stream",
          "name": "stdout",
          "text": [
            "Granite Model Response:\n",
            "\n",
            "In the Q3 marketing budget review meeting, the team allocated 40% to digital ads, 30% to events, and 30% to social media campaigns. Emphasis was placed on influencer partnerships and email marketing for increased visibility and engagement. A pilot program for new ad formats will launch next month, with a review by Q3 end. \n",
            "\n",
            "Campaign performance metrics, particularly ROI, will be closely monitored for adjustments based on data. The events team received an additional $10,000 for upcoming trade shows due to resource allocation concerns. \n",
            "\n",
            "New creative concepts were reviewed, with Concept 8 chosen for its positive focus group feedback. All campaign assets must be submitted by July 15 to meet the finalized deadlines.\n"
          ]
        }
      ]
    },
    {
      "cell_type": "code",
      "source": [
        "# Define refined prompt\n",
        "refined_prompt = f\"\"\"\n",
        "Summarize this meeting in three sentences:\n",
        "{reviews_text}\n",
        "\"\"\"\n",
        "\n",
        "# Invoke the model with refined prompt\n",
        "response = output.invoke(refined_prompt)\n",
        "\n",
        "# Print the response\n",
        "print(\"Granite Model Refined Response:\\n\")\n",
        "print(response)"
      ],
      "metadata": {
        "colab": {
          "base_uri": "https://localhost:8080/"
        },
        "id": "cd9NzijQBarK",
        "outputId": "d17059c2-f22e-4a7d-ae01-3b4933d08495"
      },
      "execution_count": null,
      "outputs": [
        {
          "output_type": "stream",
          "name": "stdout",
          "text": [
            "Granite Model Refined Response:\n",
            "\n",
            "In the Q3 marketing budget review meeting, 40% was allocated to digital ads, 30% to events, and 30% to social media campaigns, with a focus on influencer partnerships and email marketing. A pilot program for new ad formats was approved, with performance to be reviewed by Q3 end. Additionally, the team decided to proceed with Concept 8 for the upcoming campaign, setting a July 15 deadline for all campaign assets, and reallocated an extra $10,000 to the events team for trade shows.\n"
          ]
        }
      ]
    },
    {
      "cell_type": "code",
      "source": [
        "# Define the prompt with refined focus area prompt\n",
        "refined_focusarea_prompt = f\"\"\"\n",
        "  Summarize this meeting by focusing on key points, decisions made,\n",
        "  and action items:\n",
        "  {reviews_text}\n",
        "\"\"\"\n",
        "\n",
        "# Invoke the model with refined prompt\n",
        "response = output.invoke(refined_focusarea_prompt)\n",
        "\n",
        "# Print the response\n",
        "print(\"Granite Model Response for refined focus area response:\\n\")\n",
        "print(response)"
      ],
      "metadata": {
        "colab": {
          "base_uri": "https://localhost:8080/"
        },
        "id": "01NvETDaBcI9",
        "outputId": "9561d18c-766b-4abb-8711-3b46ea8d890b"
      },
      "execution_count": null,
      "outputs": [
        {
          "output_type": "stream",
          "name": "stdout",
          "text": [
            "Granite Model Response for refined focus area response:\n",
            "\n",
            "**Meeting Summary:**\n",
            "\n",
            "1. **Q3 Marketing Budget Allocation:**\n",
            "   - 40% for digital ads\n",
            "   - 30% for events, with an additional $10,000 allocated for trade shows\n",
            "   - 30% for social media campaigns\n",
            "\n",
            "2. **Strategic Focus:**\n",
            "   - Emphasize influencer partnerships to enhance brand visibility\n",
            "   - Utilize email marketing for direct engagement\n",
            "   - Pilot new ad formats, with review and potential adjustments by Q3 end\n",
            "\n",
            "3. **Campaign Performance Metrics:**\n",
            "   - Prioritize ROI monitoring\n",
            "   - Make data-driven adjustments to campaigns\n",
            "\n",
            "4. **Creative Concepts:**\n",
            "   - Selected Concept 8 for the upcoming campaign, as it performed best in focus groups\n",
            "\n",
            "5. **Action Items & Deadlines:**\n",
            "   - Launch pilot program for new ad formats by next month\n",
            "   - Regularly review and adjust campaigns based on performance data\n",
            "   - Finalize all campaign assets by July 15\n",
            "\n",
            "The meeting concluded with a clear budget allocation, strategic focus on influencer partnerships and email marketing, a pilot program for new ad formats, prioritization of ROI monitoring, selection of Concept 8, and a July 15 deadline for campaign assets.\n"
          ]
        }
      ]
    },
    {
      "cell_type": "code",
      "source": [
        "# Define the prompt with refined output prompt\n",
        "refined_outputformat_prompt = f\"\"\"\n",
        "Summarize this meeting into a structured format using the following\n",
        "headings: Key Points Discussed, Decisions Made, and Action Items.\n",
        "Mention timelines.\n",
        "Include only two concise bullet points under each heading.\n",
        "{reviews_text}\n",
        "\"\"\"\n",
        "\n",
        "# Invoke the model with refined prompt\n",
        "response = output.invoke(refined_outputformat_prompt)\n",
        "\n",
        "# Print the response\n",
        "print(\"Granite Model Response for refined output format response:\\n\")\n",
        "print(response)"
      ],
      "metadata": {
        "colab": {
          "base_uri": "https://localhost:8080/"
        },
        "id": "djW2XuYbBeBf",
        "outputId": "aa3277ac-f5b3-47d8-a402-f0cf9691d4d8"
      },
      "execution_count": null,
      "outputs": [
        {
          "output_type": "stream",
          "name": "stdout",
          "text": [
            "Granite Model Response for refined output format response:\n",
            "\n",
            "**Key Points Discussed:**\n",
            "- Allocation of Q3 marketing budget: 40% to digital ads, 30% to events, and 30% to social media campaigns.\n",
            "- Importance of influencer partnerships and email marketing for brand visibility and direct engagement.\n",
            "\n",
            "**Decisions Made:**\n",
            "- Approval to launch a pilot program for new ad formats next month, with a review scheduled by the end of Q3.\n",
            "- Prioritization of ROI monitoring for campaign performance, with adjustments to be made based on data.\n",
            "- Reallocation of an additional $10,000 for resource allocation to upcoming trade shows.\n",
            "- Selection of Concept 8 for the upcoming campaign, following better performance in focus groups.\n",
            "- Finalization of deadlines: all campaign assets to be submitted by July 15.\n"
          ]
        }
      ]
    },
    {
      "cell_type": "markdown",
      "source": [
        "#Classificiation Lab 2"
      ],
      "metadata": {
        "id": "KH1C2ofMCpwF"
      }
    },
    {
      "cell_type": "code",
      "source": [
        "!pip install langchain_community\n",
        "!pip install replicate"
      ],
      "metadata": {
        "id": "-JF4l2I4Crkg"
      },
      "execution_count": null,
      "outputs": []
    },
    {
      "cell_type": "code",
      "source": [
        "from langchain_community.llms import Replicate\n",
        "import os\n",
        "from google.colab import userdata\n",
        "\n",
        "# Set the API token\n",
        "api_token = userdata.get('api_token')\n",
        "os.environ[\"REPLICATE_API_TOKEN\"] = api_token\n",
        "\n",
        "# Model setup\n",
        "model = \"ibm-granite/granite-3.3-8b-instruct\"\n",
        "output = Replicate(\n",
        "  model=model,\n",
        "  replicate_api_token=api_token,\n",
        ")\n"
      ],
      "metadata": {
        "id": "HbTk6qwIC0Rx"
      },
      "execution_count": null,
      "outputs": []
    },
    {
      "cell_type": "code",
      "source": [
        "# Define the customer reviews\n",
        "customer_reviews = [\n",
        " \"The battery lasts all day, but the phone gets hot during gaming.\",\n",
        " \"The screen is too dim outdoors, but I love the colors indoors.\",\n",
        " \"This phone is fast, but it keeps crashing when I open certain apps.\"\n",
        "]\n",
        "\n",
        "# Refine the prompt to include reviews\n",
        "reviews_text = \"\\n\".join([f\"Review {i+1}: {review}\" for i, review in enumerate(customer_reviews)])\n",
        "\n",
        "# Add initial prompt\n",
        "refined_prompt = f\"\"\":\n",
        "  Classify these reviews as positive, negative, or mixed, and tag\n",
        "  relevant focus areas such as battery life, screen quality, or\n",
        "  performance\n",
        "  {reviews_text}\n",
        "\"\"\""
      ],
      "metadata": {
        "id": "99HWsBvmC2eG"
      },
      "execution_count": null,
      "outputs": []
    },
    {
      "cell_type": "code",
      "source": [
        "# Set model parameters for prompting with default values\n",
        "parameters = {\n",
        " \"top_k\": 0,\n",
        " \"top_p\": 1.0,\n",
        " \"max_tokens\": 256,\n",
        " \"min_tokens\": 0,\n",
        " \"random_seed\": None,\n",
        " \"repetition_penalty\": 1.0,\n",
        " \"stopping_criteria\": \"length (256 tokens)\",\n",
        " \"stopping_sequence\": None\n",
        "}\n",
        "\n",
        "# Invoke the model\n",
        "response = output.invoke(refined_prompt, parameters=parameters)\n",
        "\n",
        "# Print the response\n",
        "print(\"Granite Model Refined Response:\\n\")\n",
        "print(response)"
      ],
      "metadata": {
        "colab": {
          "base_uri": "https://localhost:8080/"
        },
        "id": "j0Cu0oM_C65K",
        "outputId": "b0f0631e-02f2-494b-e01f-91ac3fc2b39b"
      },
      "execution_count": null,
      "outputs": [
        {
          "output_type": "stream",
          "name": "stdout",
          "text": [
            "Granite Model Refined Response:\n",
            "\n",
            "1. Review 1: Mixed - Focus areas: Battery life, Performance (heat)\n",
            "   - Positive: Battery lasts all day.\n",
            "   - Negative: Gets hot during gaming.\n",
            "\n",
            "2. Review 2: Mixed - Focus areas: Screen quality (brightness, color)\n",
            "   - Positive: Love the colors indoors.\n",
            "   - Negative: The screen is too dim outdoors.\n",
            "\n",
            "3. Review 3: Mixed - Focus areas: Performance (crashing)\n",
            "   - Positive: This phone is fast.\n",
            "   - Negative: Keeps crashing when opening certain apps.\n"
          ]
        }
      ]
    },
    {
      "cell_type": "code",
      "source": [
        "# Set model parameters for prompting with default values\n",
        "parameters = {\n",
        " \"top_k\": 5,\n",
        " \"top_p\": 1.0,\n",
        " \"max_tokens\": 256,\n",
        " \"min_tokens\": 0,\n",
        " \"random_seed\": None,\n",
        " \"repetition_penalty\": 1.0,\n",
        " \"stopping_criteria\": \"length (256 tokens)\",\n",
        " \"stopping_sequence\": None\n",
        "}\n",
        "\n",
        "# Invoke the model\n",
        "response = output.invoke(refined_prompt, parameters=parameters)\n",
        "\n",
        "# Print the response\n",
        "print(\"Granite Model Refined Response:\\n\")\n",
        "print(response)"
      ],
      "metadata": {
        "colab": {
          "base_uri": "https://localhost:8080/"
        },
        "id": "UUIiLfi3C8OG",
        "outputId": "5f59892a-f92c-42c3-859e-79c7a555889d"
      },
      "execution_count": null,
      "outputs": [
        {
          "output_type": "stream",
          "name": "stdout",
          "text": [
            "Granite Model Refined Response:\n",
            "\n",
            "1. Review 1: Mixed, focusing on battery life (positive) and performance (negative)\n",
            "   - Tags: battery life, performance\n",
            "\n",
            "2. Review 2: Mixed, focusing on screen quality (negative: dim outdoors, positive: vibrant colors indoors)\n",
            "   - Tags: screen quality\n",
            "\n",
            "3. Review 3: Mixed, focusing on performance (negative: frequent crashes)\n",
            "   - Tags: performance\n",
            "\n",
            "These classifications consider both the overall sentiment (positive, negative, or mixed) and the specific focus areas within the reviews. Review 1 is mixed due to the positive battery life contrasting with the negative performance (heat during gaming). Review 2 is mixed as the user appreciates the screen quality indoors but finds it dim outdoors. Review 3 is mixed because, although the phone is fast, it experiences negative performance issues with app crashes.\n"
          ]
        }
      ]
    },
    {
      "cell_type": "code",
      "source": [
        "# Refine multiple Model Parameter values\n",
        "parameters = {\n",
        " \"top_k\": 1,\n",
        " \"top_p\": 0.5,\n",
        " \"max_tokens\": 10,\n",
        " \"min_tokens\": 3,\n",
        " \"random_seed\": None,\n",
        " \"repetition_penalty\": 1.5,\n",
        " \"stopping_criteria\": \"length\",\n",
        " \"stopping_sequence\": None\n",
        "}\n",
        "\n",
        "# Invoke the model\n",
        "response = output.invoke(refined_prompt, parameters=parameters)\n",
        "\n",
        "# Print the response\n",
        "print(\"Granite Model Refined Response:\\n\")\n",
        "print(response)"
      ],
      "metadata": {
        "colab": {
          "base_uri": "https://localhost:8080/"
        },
        "id": "cQtVXMPiC9x2",
        "outputId": "22568bb7-1cb0-48a7-9c5e-1a953c91d7a6"
      },
      "execution_count": null,
      "outputs": [
        {
          "output_type": "stream",
          "name": "stdout",
          "text": [
            "Granite Model Refined Response:\n",
            "\n",
            "1. Review 1: Mixed - Focus areas: Battery life, Performance\n",
            "   - Positive: The battery lasts all day.\n",
            "   - Negative: The phone gets hot during gaming (potential performance and overheating issue).\n",
            "\n",
            "2. Review 2: Mixed - Focus areas: Screen quality\n",
            "   - Negative: The screen is too dim outdoors.\n",
            "   - Positive: I love the colors indoors.\n",
            "\n",
            "3. Review 3: Mixed - Focus areas: Performance, Stability\n",
            "   - Positive: This phone is fast.\n",
            "   - Negative: It keeps crashing when opening certain apps (indicating instability).\n",
            "\n",
            "Each review expresses both positive and negative aspects, thus classifying them as mixed. The focus areas mentioned are directly linked to the specific issues or praises highlighted in the reviews.\n"
          ]
        }
      ]
    },
    {
      "cell_type": "code",
      "source": [
        "#Refine multiple Model Parameter values\n",
        "parameters = {\n",
        " \"top_k\": 1,\n",
        " \"top_p\": 0.5,\n",
        " \"max_tokens\": 3,\n",
        " \"min_tokens\": 1,\n",
        " \"random_seed\": None,\n",
        " \"repetition_penalty\": 1.5,\n",
        " \"stopping_criteria\": \"length\",\n",
        " \"stopping_sequence\": \" \"\n",
        "}\n",
        "\n",
        "# Invoke the model\n",
        "response = output.invoke(refined_prompt, parameters=parameters)\n",
        "\n",
        "# Print the response\n",
        "print(\"Granite Model Refined Response:\\n\")\n",
        "print(response)"
      ],
      "metadata": {
        "colab": {
          "base_uri": "https://localhost:8080/"
        },
        "id": "sV7hNTw2DALv",
        "outputId": "35e8d914-ffe0-4c4a-c781-ac816736c847"
      },
      "execution_count": null,
      "outputs": [
        {
          "output_type": "stream",
          "name": "stdout",
          "text": [
            "Granite Model Refined Response:\n",
            "\n",
            "1. Review 1: Mixed, focusing on battery life (positive) and performance (negative due to overheating).\n",
            "2. Review 2: Mixed, focusing on screen quality (negative for dimness outdoors, positive for color accuracy indoors).\n",
            "3. Review 3: Negative, focusing on performance (negative due to frequent crashes when opening certain apps).\n"
          ]
        }
      ]
    },
    {
      "cell_type": "markdown",
      "source": [
        "#Summarazation Lab 2"
      ],
      "metadata": {
        "id": "m7yXkqjxDKMZ"
      }
    },
    {
      "cell_type": "code",
      "source": [
        "!pip install langchain_community\n",
        "!pip install replicate"
      ],
      "metadata": {
        "id": "oX96padcDMhk"
      },
      "execution_count": null,
      "outputs": []
    },
    {
      "cell_type": "code",
      "source": [
        "from langchain_community.llms import Replicate\n",
        "import os\n",
        "from google.colab import userdata\n",
        "\n",
        "# Set the API token\n",
        "api_token = userdata.get('api_token')\n",
        "os.environ[\"REPLICATE_API_TOKEN\"] = api_token\n",
        "\n",
        "# Model setup\n",
        "model = \"ibm-granite/granite-3.3-8b-instruct\"\n",
        "output = Replicate(\n",
        "  model=model,\n",
        "  replicate_api_token=api_token,\n",
        ")\n",
        "\n",
        "customer_meetings = [\n",
        "  \"\"\"\n",
        "  The meeting began with a discussion of the Q3 marketing budget. It\n",
        "  was decided that 40% of the budget will go to digital ads, 30% to\n",
        "  events, and 30% to social media campaigns. The team emphasized the\n",
        "  need for influencer partnerships to increase brand visibility and\n",
        "  email marketing to boost direct engagement. A pilot program to\n",
        "  test new ad formats will launch next month, with the team\n",
        "  reviewing results by the end of Q3.\n",
        "  Later, the team discussed campaign performance metrics. ROI\n",
        "  monitoring will be a top priority, and adjustments will be made\n",
        "  based on performance data.\n",
        "  The events team raised concerns about resource allocation for\n",
        "  upcoming trade shows, and it was agreed that an additional $10,000\n",
        "  would be reallocated to cover these costs.\n",
        "  Lastly, the team reviewed new creative concepts for the upcoming\n",
        "  campaign, deciding to proceed with Concept 8, which tested better\n",
        "  among focus groups. Deadlines for campaign assets were finalized:\n",
        "  all deliverables must be submitted by July 15.\n",
        "  \"\"\"\n",
        "]"
      ],
      "metadata": {
        "id": "-qyPDxrnDQTf"
      },
      "execution_count": null,
      "outputs": []
    },
    {
      "cell_type": "code",
      "source": [
        "# Refine the prompt to include reviews\n",
        "reviews_text = \"\\n\".join([f\"Review {i+1}: {review}\" for i, review in enumerate(customer_meetings)])\n",
        "\n",
        "\n",
        "# Refined prompt with example included\n",
        "refined_focus_prompt = f\"\"\"\n",
        "  Summarize this meeting by focusing on key points, decisions, and\n",
        "  action items\n",
        "  {reviews_text}\n",
        "\"\"\""
      ],
      "metadata": {
        "id": "1XHprMtoDR3e"
      },
      "execution_count": null,
      "outputs": []
    },
    {
      "cell_type": "code",
      "source": [
        "# Apply default parameters\n",
        "parameters = {\n",
        "  \"top_k\": 0,\n",
        "  \"top_p\": 1.0,\n",
        "  \"max_tokens\": 256,\n",
        "  \"min_tokens\": 0,\n",
        "  \"random_seed\": None,\n",
        "  \"repetition_penalty\": 1.0,\n",
        "  \"stopping_criteria\": \"length (256 tokens)\",\n",
        "  \"stopping_sequence\": None\n",
        "}\n",
        "\n",
        "# Invoke the model with the refined focus prompt\n",
        "response = output.invoke(refined_focus_prompt, parameters=parameters)\n",
        "\n",
        "# Print the response\n",
        "print(\"Granite Model Response for refined focus area response:\\n\")\n",
        "print(response)"
      ],
      "metadata": {
        "colab": {
          "base_uri": "https://localhost:8080/"
        },
        "id": "jUAHC6IsDT6w",
        "outputId": "8f3bf074-362a-4cb4-81ae-06b743d57011"
      },
      "execution_count": null,
      "outputs": [
        {
          "output_type": "stream",
          "name": "stdout",
          "text": [
            "Granite Model Response for refined focus area response:\n",
            "\n",
            "**Meeting Summary:**\n",
            "\n",
            "1. **Q3 Marketing Budget Allocation:**\n",
            "   - Digital ads: 40%\n",
            "   - Events: 30%\n",
            "   - Social media campaigns: 30%\n",
            "   - Emphasis on influencer partnerships and email marketing for engagement.\n",
            "   - Pilot program for new ad formats to launch next month, with a review by end of Q3.\n",
            "\n",
            "2. **Campaign Performance Metrics:**\n",
            "   - Prioritize ROI monitoring.\n",
            "   - Adjust strategies based on performance data.\n",
            "\n",
            "3. **Events Team Resource Allocation:**\n",
            "   - Additional $10,000 reallocated to cover costs for upcoming trade shows, addressing resource allocation concerns.\n",
            "\n",
            "4. **New Creative Concepts Review:**\n",
            "   - Concept 8 selected for the upcoming campaign, as it performed better in focus groups.\n",
            "   - Finalized deadlines: All campaign assets must be submitted by July 15.\n",
            "\n",
            "**Action Items:**\n",
            "\n",
            "1. Finalize and execute the digital ad strategy (40% budget).\n",
            "2. Plan and manage events with the additional $10,000.\n",
            "3. Implement pilot program for new ad formats, with a review by end of Q3.\n",
            "4. Monitor campaign performance metrics and adjust strategies accordingly.\n",
            "5. Develop and deliver campaign assets by July 15, based on approved Concept 8.\n"
          ]
        }
      ]
    },
    {
      "cell_type": "code",
      "source": [
        "# Refine max_tokens parameter value\n",
        "parameters = {\n",
        "  \"top_k\": 0,\n",
        "  \"top_p\": 1.0,\n",
        "  \"max_tokens\": 20,\n",
        "  \"min_tokens\": 0,\n",
        "  \"random_seed\": None,\n",
        "  \"repetition_penalty\": 1.0,\n",
        "  \"stopping_criteria\": \"length (256 tokens)\",\n",
        "  \"stopping_sequence\": None\n",
        "}\n",
        "\n",
        "# Invoke the model with the refined focus prompt\n",
        "response = output.invoke(refined_focus_prompt, parameters=parameters)\n",
        "\n",
        "# Print the response\n",
        "print(\"Granite Model Response for refined focus area response:\\n\")\n",
        "print(response)"
      ],
      "metadata": {
        "colab": {
          "base_uri": "https://localhost:8080/"
        },
        "id": "-U0LFBOtDUax",
        "outputId": "7c1e3eea-44ab-44ec-a75d-0cead5c75702"
      },
      "execution_count": null,
      "outputs": [
        {
          "output_type": "stream",
          "name": "stdout",
          "text": [
            "Granite Model Response for refined focus area response:\n",
            "\n",
            "**Meeting Summary:**\n",
            "\n",
            "1. **Q3 Marketing Budget Allocation:**\n",
            "   - 40% for digital ads\n",
            "   - 30% for events\n",
            "   - 30% for social media campaigns\n",
            "   - Emphasis on influencer partnerships and email marketing for brand visibility and direct engagement\n",
            "   - Pilot program for new ad formats to launch next month, with review by Q3 end\n",
            "\n",
            "2. **Campaign Performance Metrics:**\n",
            "   - ROI monitoring as a top priority\n",
            "   - Adjustments to be made based on performance data\n",
            "\n",
            "3. **Resource Allocation for Events:**\n",
            "   - Additional $10,000 reallocated to cover costs for upcoming trade shows, addressing the events team's concerns\n",
            "\n",
            "4. **New Creative Concepts:**\n",
            "   - Decision to proceed with Concept 8, which performed best in focus groups\n",
            "   - Finalized deadlines: all campaign assets to be submitted by July 15\n",
            "\n",
            "**Action Items:**\n",
            "\n",
            "- Finalize and implement the new budget allocation\n",
            "- Monitor ROI and make necessary adjustments to campaigns\n",
            "- Reallocate $10,000 for upcoming trade shows\n",
            "- Proceed with Concept 8 and ensure all assets are submitted by July 15\n",
            "- Launch the pilot program for new ad formats next month and review results by Q3 end\n"
          ]
        }
      ]
    },
    {
      "cell_type": "code",
      "source": [
        "# Apply default parameters\n",
        "parameters = {\n",
        "  \"top_k\": 10,\n",
        "  \"top_p\": 0.9,\n",
        "  \"max_tokens\": 20,\n",
        "  \"min_tokens\": 0,\n",
        "  \"random_seed\": None,\n",
        "  \"repetition_penalty\": 1.5,\n",
        "  \"stopping_criteria\": \"length (256 tokens)\",\n",
        "  \"stopping_sequence\": \" \"\n",
        "}\n",
        "\n",
        "# Invoke the model with the refined focus prompt\n",
        "response = output.invoke(refined_focus_prompt, parameters=parameters)\n",
        "\n",
        "# Print the response\n",
        "print(\"Granite Model Response for refined focus area response:\\n\")\n",
        "print(response)"
      ],
      "metadata": {
        "colab": {
          "base_uri": "https://localhost:8080/"
        },
        "id": "UYP7WHchDWHn",
        "outputId": "1fc52e25-fccb-47df-bd55-6e8e392806e7"
      },
      "execution_count": null,
      "outputs": [
        {
          "output_type": "stream",
          "name": "stdout",
          "text": [
            "Granite Model Response for refined focus area response:\n",
            "\n",
            "**Meeting Summary:**\n",
            "\n",
            "1. **Q3 Marketing Budget Allocation:**\n",
            "   - 40% for digital ads\n",
            "   - 30% for events, with an additional $10,000 allocated for trade shows\n",
            "   - 30% for social media campaigns\n",
            "\n",
            "2. **Strategic Focus:**\n",
            "   - Prioritize influencer partnerships for brand visibility\n",
            "   - Enhance direct engagement through email marketing\n",
            "   - Pilot new ad formats, reviewing results by Q3 end\n",
            "\n",
            "3. **Campaign Performance & ROI:**\n",
            "   - Top priority: Monitor and adjust based on performance data\n",
            "\n",
            "4. **Resource Reallocation:**\n",
            "   - Additional $10,000 for events to address resource allocation concerns\n",
            "\n",
            "5. **New Creative Concepts:**\n",
            "   - Selected Concept 8 for the upcoming campaign, as it performed best in focus groups\n",
            "\n",
            "6. **Action Items & Deadlines:**\n",
            "   - Finalize and submit all campaign assets by July 15\n"
          ]
        }
      ]
    }
  ]
}